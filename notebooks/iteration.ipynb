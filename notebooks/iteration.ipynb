{
 "cells": [
  {
   "cell_type": "markdown",
   "metadata": {},
   "source": [
    "## **Iteration in Python**\n",
    "### **Topics Covered:**\n",
    "1. The `range` Function\n",
    "1. While Loops\n",
    "1. Do-While Loops\n",
    "1. The `break` keyword\n",
    "1. For Loops\n"
   ]
  },
  {
   "cell_type": "markdown",
   "metadata": {},
   "source": [
    "#### **1. The `range` Function**\n",
    "Before we begin talking about loops and iteration in python, let's discuss the `range` function. The `range` function can take 1, 2, or 3 arguments. No matter how many arguments it takes, it will always return a list.*\n",
    "\n",
    "1. One Argument: `range(stop)` --> Returns a list of every integer from `0` (inclusive) to `stop` (exclusive)\n",
    "1. Two Arguments: `range(start, stop)` --> Returns a list of every integer from `start` (inclusive) to `stop` (exclusive)\n",
    "1. Three Arguments: `range(start, stop, step)` --> Returns a list of integers from `start` (inclusive) to `stop` (exclusive), counting by `step`\n",
    "\n",
    "*Python doesn't store the output as a list, but for all intents and purposes, the output is a list.\n"
   ]
  },
  {
   "cell_type": "code",
   "execution_count": 4,
   "metadata": {},
   "outputs": [
    {
     "name": "stdout",
     "output_type": "stream",
     "text": [
      "[0]\n",
      "[0, 1, 2]\n",
      "[1, 2, 3, 4]\n",
      "[3]\n",
      "[2, 4, 6]\n",
      "[0, 3, 6]\n"
     ]
    }
   ],
   "source": [
    "#for example:\n",
    "\n",
    "print(list(range(1)))\n",
    "\n",
    "print(list(range(3)))\n",
    "\n",
    "print(list(range(1, 5)))\n",
    "\n",
    "print(list(range(3, 4)))\n",
    "\n",
    "print(list(range(2, 8, 2)))\n",
    "\n",
    "print(list(range(0, 9, 3)))"
   ]
  },
  {
   "cell_type": "code",
   "execution_count": null,
   "metadata": {},
   "outputs": [],
   "source": [
    "#practice problems\n",
    "\n",
    "#create a list of numbers [0, 1, 2, 3, 4] using range\n",
    "l1 = ###YOUR CODE HERE###\n",
    "print(list(l1))\n",
    "\n",
    "#create a list of numbers [0, 2, 4, 6, 8] using range\n",
    "l2 = ###YOUR CODE HERE###\n",
    "print(list(l2))\n",
    "\n",
    "#create a list of numbers [4, 6, 8] using range\n",
    "l3 = ###YOUR CODE HERE###\n",
    "print(list(l3))"
   ]
  },
  {
   "cell_type": "markdown",
   "metadata": {},
   "source": [
    "#### **2. While Loops**\n",
    "\n",
    "In Python, \"while\" loops are a fundamental control structure that allows you to repeatedly execute a block of code as long as a certain condition remains true. While loops provide a way to create repetitive tasks without the need to specify exactly how many iterations will be required, making them useful for scenarios where you want to keep executing a block of code until a particular condition is met.\n",
    "\n",
    "##### **2.1 Syntax of a While Loop**\n",
    "\n",
    "The basic syntax of a \"while\" loop in Python is as follows:\n",
    "\n",
    "`condition`: This is a Boolean expression that serves as the loop's control condition. As long as the condition evaluates to True, the code block within the loop will continue to execute.\n",
    "\n",
    "```python\n",
    "while condition:\n",
    "    # Code to be executed repeatedly as long as 'condition' is True\n",
    "```\n",
    "\n",
    "**BE CAUTIOUS ABOUT INFINTE LOOPS** - these occur when `condition` always evaluates to `True`\n"
   ]
  },
  {
   "cell_type": "code",
   "execution_count": 7,
   "metadata": {},
   "outputs": [
    {
     "name": "stdout",
     "output_type": "stream",
     "text": [
      "1\n",
      "2\n",
      "3\n",
      "4\n",
      "5\n",
      "6\n",
      "7\n",
      "8\n",
      "9\n",
      "10\n",
      "------------\n",
      "10\n",
      "9\n",
      "8\n",
      "7\n",
      "6\n",
      "5\n",
      "4\n",
      "3\n",
      "2\n",
      "1\n",
      "Blast off!\n"
     ]
    }
   ],
   "source": [
    "#for example\n",
    "\n",
    "#counting from 1 to 10:\n",
    "count = 1\n",
    "while count <= 10:\n",
    "    print(count)\n",
    "    count += 1\n",
    "\n",
    "print(\"------------\")\n",
    "\n",
    "#countdown timer:\n",
    "countdown = 10\n",
    "while countdown > 0:\n",
    "    print(countdown)\n",
    "    countdown -= 1\n",
    "print(\"Blast off!\")"
   ]
  }
 ],
 "metadata": {
  "kernelspec": {
   "display_name": "Python 3",
   "language": "python",
   "name": "python3"
  },
  "language_info": {
   "codemirror_mode": {
    "name": "ipython",
    "version": 3
   },
   "file_extension": ".py",
   "mimetype": "text/x-python",
   "name": "python",
   "nbconvert_exporter": "python",
   "pygments_lexer": "ipython3",
   "version": "3.9.6"
  }
 },
 "nbformat": 4,
 "nbformat_minor": 2
}
