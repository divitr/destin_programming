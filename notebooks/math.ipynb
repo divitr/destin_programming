{
 "cells": [
  {
   "cell_type": "markdown",
   "metadata": {},
   "source": [
    "## **Math Operations in Python**\n",
    "### **Topics Covered:**\n",
    "1. Addition\n",
    "1. Subtraction\n",
    "1. Multiplication\n",
    "1. Division\n",
    "1. Modulo\n",
    "1. Exponentiation\n"
   ]
  },
  {
   "cell_type": "markdown",
   "metadata": {},
   "source": [
    "#### **1. Addition**\n",
    "Addition is one of the most basic math operations. It allows you to add two or more numbers together."
   ]
  },
  {
   "cell_type": "code",
   "execution_count": null,
   "metadata": {},
   "outputs": [],
   "source": [
    "#For example:\n",
    "a = 3\n",
    "b = 5\n",
    "result = a+b\n",
    "print(f\"The sum of {a} and {b} is {result}\")"
   ]
  },
  {
   "cell_type": "code",
   "execution_count": null,
   "metadata": {},
   "outputs": [],
   "source": [
    "#Calculate the sum of two numbers, 12 and 7. Assign the result to a variable `sum_result` and print it.\n",
    "\n",
    "###YOUR CODE HERE###"
   ]
  },
  {
   "cell_type": "markdown",
   "metadata": {},
   "source": [
    "#### **2. Subtraction**\n",
    "Subtraction allows you to find the difference between two numbers."
   ]
  },
  {
   "cell_type": "code",
   "execution_count": null,
   "metadata": {},
   "outputs": [],
   "source": [
    "#For example:\n",
    "a = 8\n",
    "b = 5\n",
    "result = a-b\n",
    "print(f\"The difference of {a} and {b} is {result}\")"
   ]
  },
  {
   "cell_type": "code",
   "execution_count": null,
   "metadata": {},
   "outputs": [],
   "source": [
    "#Subtract 20 from 45. Assign the result to a variable `sub_result` and print it.\n",
    "\n",
    "###YOUR CDOE HERE###"
   ]
  },
  {
   "cell_type": "markdown",
   "metadata": {},
   "source": [
    "#### **3. Multiplication**\n",
    "Multiplication allows you to find the product of two numbers."
   ]
  },
  {
   "cell_type": "code",
   "execution_count": null,
   "metadata": {},
   "outputs": [],
   "source": [
    "#For example:\n",
    "a = 8\n",
    "b = 5\n",
    "result = a*b\n",
    "print(f\"The product of {a} and {b} is {result}\")"
   ]
  },
  {
   "cell_type": "code",
   "execution_count": null,
   "metadata": {},
   "outputs": [],
   "source": [
    "#Multiply 8 by 9. Assign the result to a variable `mul_result` and print it.\n",
    "\n",
    "###YOUR CDOE HERE###"
   ]
  },
  {
   "cell_type": "markdown",
   "metadata": {},
   "source": [
    "#### **4. Division**\n",
    "Division allows you to find the quotient when one number is divided by another.\n",
    "\n",
    "Note that division by zero is not allowed.\n",
    "Also note that division always returns a float, even if the two numbers divide evenly. To get an int, we can use floor division (//), which will return the quotient truncated to an int."
   ]
  },
  {
   "cell_type": "code",
   "execution_count": null,
   "metadata": {},
   "outputs": [],
   "source": [
    "#For example:\n",
    "a = 20\n",
    "b = 4\n",
    "result = a/b\n",
    "print(f\"The quotient of {a} and {b} is {result}\")"
   ]
  },
  {
   "cell_type": "code",
   "execution_count": null,
   "metadata": {},
   "outputs": [],
   "source": [
    "#For example:\n",
    "a = 21\n",
    "b = 4\n",
    "result = a//b\n",
    "print(f\"The floor division quotient of {a} and {b} is {result}\")"
   ]
  },
  {
   "cell_type": "code",
   "execution_count": null,
   "metadata": {},
   "outputs": [],
   "source": [
    "#Divide 16 by 3. Assign the result to a variable `div_result` and print it.\n",
    "#Also print how many times 3 goes cleanly into 16 (hint: this should be an int!)\n",
    "\n",
    "##YOUR CODE HERE###"
   ]
  },
  {
   "cell_type": "markdown",
   "metadata": {},
   "source": [
    "#### **5. Modulo**\n",
    "The modulo operation calculates the remainder when one number is divided by another."
   ]
  },
  {
   "cell_type": "code",
   "execution_count": null,
   "metadata": {},
   "outputs": [],
   "source": [
    "#For example:\n",
    "a = 17\n",
    "b = 3\n",
    "result = 17%3\n",
    "print(f\"The remainder of {a} divided by {b} is {result}\")"
   ]
  },
  {
   "cell_type": "code",
   "execution_count": null,
   "metadata": {},
   "outputs": [],
   "source": [
    "#Find the remainder when 27 is divided by 4. Assign the result to a variable `mod_result` and print it\n",
    "\n",
    "###YOUR CODE HERE###"
   ]
  },
  {
   "cell_type": "markdown",
   "metadata": {},
   "source": [
    "#### **6. Exponentiation**\n",
    "Exponentiation allows you to raise a number to a power."
   ]
  },
  {
   "cell_type": "code",
   "execution_count": null,
   "metadata": {},
   "outputs": [],
   "source": [
    "#For example:\n",
    "a = 2\n",
    "b = 3\n",
    "result = b**a\n",
    "print(f\"{b} raised to the {a} is {result}\")"
   ]
  },
  {
   "cell_type": "code",
   "execution_count": null,
   "metadata": {},
   "outputs": [],
   "source": [
    "#Calculate 5 to the power of 4. Assign the result to a variable `exp_result` and print it.\n",
    "\n",
    "###YOUR CODE HERE###"
   ]
  },
  {
   "cell_type": "markdown",
   "metadata": {},
   "source": [
    "#### **Practice Case: Hailstone Sequence**\n",
    "\n",
    "A hailstone sequence is a sequence in which every next number is calculated only based on the previous number.\\\n",
    "The rules are as follows:\n",
    " - if the previous number is 1, the next number is also 1\n",
    " - if the previous number is even, the next number is the previous number multiplied by 2\n",
    " - if the previous number is odd, the next number is the previous number multiplied by 3 and added to 1"
   ]
  },
  {
   "cell_type": "code",
   "execution_count": null,
   "metadata": {},
   "outputs": [],
   "source": [
    "#Complete the function hailstone, which when given a number, computes the next number in the hailstone sequence. If you get stuck, feel free to use the template provided below\n",
    "\n",
    "def hailstone(n):\n",
    "    if _______:\n",
    "        return _______\n",
    "    elif _______:\n",
    "        return _______\n",
    "    else:\n",
    "        return _______"
   ]
  },
  {
   "cell_type": "code",
   "execution_count": 10,
   "metadata": {},
   "outputs": [],
   "source": [
    "#Test your function!\n",
    "\n",
    "#If n is 5, what should hailstone(n) return?\n",
    "print(hailstone(5))\n",
    "\n",
    "#If n is 8, what should hailstone(n) return?\n",
    "print(hailstone(8))\n",
    "\n",
    "#If n is 1, what should hailstone(n) return?\n",
    "print(hailstone(1))"
   ]
  },
  {
   "cell_type": "markdown",
   "metadata": {},
   "source": [
    "#### **Practice Case: Road Trip**\n",
    "You are planning a road trip and want to calculate the total cost of gas for the trip. You know the following:\n",
    " - Your car's fuel efficiency is 25 miles per gallon (MPG)\n",
    " - The distance of the trip is 350 miles\n",
    " - The price of one gallon of gas is $3.50"
   ]
  },
  {
   "cell_type": "code",
   "execution_count": null,
   "metadata": {},
   "outputs": [],
   "source": [
    "#Calculate and print the cost of the road trip\n",
    "\n",
    "###YOUR CODE HERE###"
   ]
  },
  {
   "cell_type": "markdown",
   "metadata": {},
   "source": [
    "#### **Practice Case: Apples**\n",
    "Write the function share_apples that returns False if the number of apples cannot be divided evenly by the number of friends, and returns how many apples each friend gets if the number of apples can be divided evenly by the number of friends.\n",
    "\n",
    "Assume num_friends will always be > 0"
   ]
  },
  {
   "cell_type": "code",
   "execution_count": null,
   "metadata": {},
   "outputs": [],
   "source": [
    "#Implement share_apples. If you get stuck, feel free to use the template provided below.\n",
    "def share_apples(num_apples, num_friends):\n",
    "    if _______:\n",
    "        return False\n",
    "    else:\n",
    "        return _______"
   ]
  },
  {
   "cell_type": "code",
   "execution_count": null,
   "metadata": {},
   "outputs": [],
   "source": [
    "#Test your function!\n",
    "\n",
    "#If num_apples is 10 and num_friends is 2, what should share_apples(num_apples, num_friends) return?\n",
    "print(share_apples(10, 2))\n",
    "\n",
    "#If num_apples is 10 and num_friends is 3, what should share_apples(num_apples, num_friends) return?\n",
    "print(share_apples(10, 3))\n",
    "\n",
    "#If num_apples is 0 and num_friends is 7, what should share_apples(num_apples, num_friends) return?\n",
    "print(share_apples(0, 7))"
   ]
  }
 ],
 "metadata": {
  "kernelspec": {
   "display_name": "Python 3",
   "language": "python",
   "name": "python3"
  },
  "language_info": {
   "codemirror_mode": {
    "name": "ipython",
    "version": 3
   },
   "file_extension": ".py",
   "mimetype": "text/x-python",
   "name": "python",
   "nbconvert_exporter": "python",
   "pygments_lexer": "ipython3",
   "version": "3.9.6"
  },
  "orig_nbformat": 4
 },
 "nbformat": 4,
 "nbformat_minor": 2
}
